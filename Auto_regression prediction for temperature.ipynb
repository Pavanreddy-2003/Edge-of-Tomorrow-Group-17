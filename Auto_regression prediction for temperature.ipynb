{
 "cells": [
  {
   "cell_type": "code",
   "execution_count": 1,
   "id": "14306bcd",
   "metadata": {},
   "outputs": [],
   "source": [
    "import pandas as pd\n",
    "import numpy as np\n",
    "import matplotlib.pyplot as plt\n",
    "import statsmodels.api as sm\n",
    "from statsmodels.tsa.stattools import adfuller\n",
    "from statsmodels.graphics.tsaplots import plot_pacf\n",
    "from sklearn.linear_model import LinearRegression\n",
    "from sklearn.metrics import mean_squared_error\n",
    "from statsmodels.tsa.arima_model import ARIMA"
   ]
  },
  {
   "cell_type": "code",
   "execution_count": 2,
   "id": "c15b9750",
   "metadata": {},
   "outputs": [],
   "source": [
    "%matplotlib inline"
   ]
  },
  {
   "cell_type": "code",
   "execution_count": 3,
   "id": "868e34ca",
   "metadata": {},
   "outputs": [],
   "source": [
    "df= pd.read_csv(r'C:\\Users\\RAGHU\\Desktop\\feeds.csv')"
   ]
  },
  {
   "cell_type": "code",
   "execution_count": 4,
   "id": "77da78b6",
   "metadata": {},
   "outputs": [
    {
     "data": {
      "text/html": [
       "<div>\n",
       "<style scoped>\n",
       "    .dataframe tbody tr th:only-of-type {\n",
       "        vertical-align: middle;\n",
       "    }\n",
       "\n",
       "    .dataframe tbody tr th {\n",
       "        vertical-align: top;\n",
       "    }\n",
       "\n",
       "    .dataframe thead th {\n",
       "        text-align: right;\n",
       "    }\n",
       "</style>\n",
       "<table border=\"1\" class=\"dataframe\">\n",
       "  <thead>\n",
       "    <tr style=\"text-align: right;\">\n",
       "      <th></th>\n",
       "      <th>created_at</th>\n",
       "      <th>entry_id</th>\n",
       "      <th>field1</th>\n",
       "      <th>field2</th>\n",
       "      <th>field3</th>\n",
       "      <th>field4</th>\n",
       "      <th>field5</th>\n",
       "      <th>field6</th>\n",
       "    </tr>\n",
       "  </thead>\n",
       "  <tbody>\n",
       "    <tr>\n",
       "      <th>0</th>\n",
       "      <td>2022-11-08T16:28:59+00:00</td>\n",
       "      <td>1</td>\n",
       "      <td>23</td>\n",
       "      <td>82</td>\n",
       "      <td>397</td>\n",
       "      <td>879</td>\n",
       "      <td>206</td>\n",
       "      <td>235</td>\n",
       "    </tr>\n",
       "    <tr>\n",
       "      <th>1</th>\n",
       "      <td>2022-11-08T16:29:35+00:00</td>\n",
       "      <td>2</td>\n",
       "      <td>23</td>\n",
       "      <td>82</td>\n",
       "      <td>393</td>\n",
       "      <td>875</td>\n",
       "      <td>237</td>\n",
       "      <td>235</td>\n",
       "    </tr>\n",
       "    <tr>\n",
       "      <th>2</th>\n",
       "      <td>2022-11-08T16:30:11+00:00</td>\n",
       "      <td>3</td>\n",
       "      <td>23</td>\n",
       "      <td>82</td>\n",
       "      <td>377</td>\n",
       "      <td>874</td>\n",
       "      <td>224</td>\n",
       "      <td>235</td>\n",
       "    </tr>\n",
       "    <tr>\n",
       "      <th>3</th>\n",
       "      <td>2022-11-08T16:30:48+00:00</td>\n",
       "      <td>4</td>\n",
       "      <td>23</td>\n",
       "      <td>82</td>\n",
       "      <td>370</td>\n",
       "      <td>535</td>\n",
       "      <td>82</td>\n",
       "      <td>235</td>\n",
       "    </tr>\n",
       "    <tr>\n",
       "      <th>4</th>\n",
       "      <td>2022-11-08T16:31:24+00:00</td>\n",
       "      <td>5</td>\n",
       "      <td>23</td>\n",
       "      <td>83</td>\n",
       "      <td>358</td>\n",
       "      <td>451</td>\n",
       "      <td>215</td>\n",
       "      <td>235</td>\n",
       "    </tr>\n",
       "    <tr>\n",
       "      <th>...</th>\n",
       "      <td>...</td>\n",
       "      <td>...</td>\n",
       "      <td>...</td>\n",
       "      <td>...</td>\n",
       "      <td>...</td>\n",
       "      <td>...</td>\n",
       "      <td>...</td>\n",
       "      <td>...</td>\n",
       "    </tr>\n",
       "    <tr>\n",
       "      <th>448</th>\n",
       "      <td>2023-04-15T16:40:19+00:00</td>\n",
       "      <td>449</td>\n",
       "      <td>24</td>\n",
       "      <td>59</td>\n",
       "      <td>328</td>\n",
       "      <td>882</td>\n",
       "      <td>256</td>\n",
       "      <td>235</td>\n",
       "    </tr>\n",
       "    <tr>\n",
       "      <th>449</th>\n",
       "      <td>2023-04-15T16:41:36+00:00</td>\n",
       "      <td>450</td>\n",
       "      <td>24</td>\n",
       "      <td>59</td>\n",
       "      <td>318</td>\n",
       "      <td>878</td>\n",
       "      <td>320</td>\n",
       "      <td>235</td>\n",
       "    </tr>\n",
       "    <tr>\n",
       "      <th>450</th>\n",
       "      <td>2023-04-15T16:42:08+00:00</td>\n",
       "      <td>451</td>\n",
       "      <td>24</td>\n",
       "      <td>59</td>\n",
       "      <td>320</td>\n",
       "      <td>885</td>\n",
       "      <td>313</td>\n",
       "      <td>235</td>\n",
       "    </tr>\n",
       "    <tr>\n",
       "      <th>451</th>\n",
       "      <td>2023-04-15T16:42:45+00:00</td>\n",
       "      <td>452</td>\n",
       "      <td>24</td>\n",
       "      <td>59</td>\n",
       "      <td>317</td>\n",
       "      <td>881</td>\n",
       "      <td>345</td>\n",
       "      <td>235</td>\n",
       "    </tr>\n",
       "    <tr>\n",
       "      <th>452</th>\n",
       "      <td>2023-04-15T16:43:22+00:00</td>\n",
       "      <td>453</td>\n",
       "      <td>24</td>\n",
       "      <td>59</td>\n",
       "      <td>315</td>\n",
       "      <td>881</td>\n",
       "      <td>313</td>\n",
       "      <td>235</td>\n",
       "    </tr>\n",
       "  </tbody>\n",
       "</table>\n",
       "<p>453 rows × 8 columns</p>\n",
       "</div>"
      ],
      "text/plain": [
       "                    created_at  entry_id  field1  field2  field3  field4  \\\n",
       "0    2022-11-08T16:28:59+00:00         1      23      82     397     879   \n",
       "1    2022-11-08T16:29:35+00:00         2      23      82     393     875   \n",
       "2    2022-11-08T16:30:11+00:00         3      23      82     377     874   \n",
       "3    2022-11-08T16:30:48+00:00         4      23      82     370     535   \n",
       "4    2022-11-08T16:31:24+00:00         5      23      83     358     451   \n",
       "..                         ...       ...     ...     ...     ...     ...   \n",
       "448  2023-04-15T16:40:19+00:00       449      24      59     328     882   \n",
       "449  2023-04-15T16:41:36+00:00       450      24      59     318     878   \n",
       "450  2023-04-15T16:42:08+00:00       451      24      59     320     885   \n",
       "451  2023-04-15T16:42:45+00:00       452      24      59     317     881   \n",
       "452  2023-04-15T16:43:22+00:00       453      24      59     315     881   \n",
       "\n",
       "     field5  field6  \n",
       "0       206     235  \n",
       "1       237     235  \n",
       "2       224     235  \n",
       "3        82     235  \n",
       "4       215     235  \n",
       "..      ...     ...  \n",
       "448     256     235  \n",
       "449     320     235  \n",
       "450     313     235  \n",
       "451     345     235  \n",
       "452     313     235  \n",
       "\n",
       "[453 rows x 8 columns]"
      ]
     },
     "execution_count": 4,
     "metadata": {},
     "output_type": "execute_result"
    }
   ],
   "source": [
    "df"
   ]
  },
  {
   "cell_type": "code",
   "execution_count": 5,
   "id": "1f7571ea",
   "metadata": {},
   "outputs": [
    {
     "data": {
      "text/plain": [
       "[<matplotlib.lines.Line2D at 0x220aa1c8a60>]"
      ]
     },
     "execution_count": 5,
     "metadata": {},
     "output_type": "execute_result"
    },
    {
     "data": {
      "image/png": "[encoded data removed]",
      "text/plain": [
       "<Figure size 640x480 with 1 Axes>"
      ]
     },
     "metadata": {},
     "output_type": "display_data"
    }
   ],
   "source": [
    "plt.plot(df[\"field1\"])\n",
    "plt.plot(df[\"field2\"])\n",
    "plt.plot(df[\"field3\"])\n",
    "plt.plot(df[\"field4\"])\n",
    "plt.plot(df[\"field5\"])\n",
    "plt.plot(df[\"field6\"])"
   ]
  },
  {
   "cell_type": "code",
   "execution_count": 7,
   "id": "11b4696c",
   "metadata": {},
   "outputs": [
    {
     "name": "stdout",
     "output_type": "stream",
     "text": [
      "ADF Statistic: -3.078539\n",
      "p-value: 0.028183\n",
      "Critical Values:\n",
      "\t1%: -3.445\n",
      "\t5%: -2.868\n",
      "\t10%: -2.570\n",
      "Reject Ho - Time Series is Stationary\n"
     ]
    }
   ],
   "source": [
    "#to make time as stationary\n",
    "#Augmented Dickey–Fuller test\n",
    "X = df[\"field1\"].values\n",
    "result = adfuller(X)\n",
    "print('ADF Statistic: %f' % result[0])\n",
    "print('p-value: %f' % result[1])\n",
    "print('Critical Values:')\n",
    "for key, value in result[4].items():\n",
    "    print('\\t%s: %.3f' % (key, value))\n",
    "\n",
    "if result[0] < result[4][\"5%\"]:\n",
    "    print (\"Reject Ho - Time Series is Stationary\")\n",
    "else:\n",
    "    print (\"Failed to Reject Ho - Time Series is Non-Stationary\")"
   ]
  },
  {
   "attachments": {
    "image.png": {
     "image/png": "[encoded data removed]"
    }
   },
   "cell_type": "markdown",
   "id": "1b1cc441",
   "metadata": {},
   "source": [
    "# Auto Regressive model\n",
    "![image.png](attachment:image.png)"
   ]
  },
  {
   "cell_type": "code",
   "execution_count": 8,
   "id": "cf072f1f",
   "metadata": {
    "scrolled": true
   },
   "outputs": [
    {
     "name": "stderr",
     "output_type": "stream",
     "text": [
      "C:\\ProgramData\\Anaconda3\\lib\\site-packages\\statsmodels\\graphics\\tsaplots.py:348: FutureWarning: The default method 'yw' can produce PACF values outside of the [-1,1] interval. After 0.13, the default will change tounadjusted Yule-Walker ('ywm'). You can use this method now by setting method='ywm'.\n",
      "  warnings.warn(\n"
     ]
    },
    {
     "data": {
      "image/png": "[encoded data removed]",
      "text/plain": [
       "<Figure size 640x480 with 1 Axes>"
      ]
     },
     "metadata": {},
     "output_type": "display_data"
    }
   ],
   "source": [
    "#partial Autocorrelation\n",
    "plot_pacf(X, lags=10);"
   ]
  },
  {
   "cell_type": "code",
   "execution_count": 9,
   "id": "0884c958",
   "metadata": {},
   "outputs": [],
   "source": [
    "#yt is field4 and yt-1 is shifted values\n",
    "df[\"Values_shifted\"]  = df[\"field1\"].shift()"
   ]
  },
  {
   "cell_type": "code",
   "execution_count": 10,
   "id": "bf0d16ba",
   "metadata": {},
   "outputs": [
    {
     "data": {
      "text/html": [
       "<div>\n",
       "<style scoped>\n",
       "    .dataframe tbody tr th:only-of-type {\n",
       "        vertical-align: middle;\n",
       "    }\n",
       "\n",
       "    .dataframe tbody tr th {\n",
       "        vertical-align: top;\n",
       "    }\n",
       "\n",
       "    .dataframe thead th {\n",
       "        text-align: right;\n",
       "    }\n",
       "</style>\n",
       "<table border=\"1\" class=\"dataframe\">\n",
       "  <thead>\n",
       "    <tr style=\"text-align: right;\">\n",
       "      <th></th>\n",
       "      <th>created_at</th>\n",
       "      <th>entry_id</th>\n",
       "      <th>field1</th>\n",
       "      <th>field2</th>\n",
       "      <th>field3</th>\n",
       "      <th>field4</th>\n",
       "      <th>field5</th>\n",
       "      <th>field6</th>\n",
       "      <th>Values_shifted</th>\n",
       "    </tr>\n",
       "  </thead>\n",
       "  <tbody>\n",
       "    <tr>\n",
       "      <th>0</th>\n",
       "      <td>2022-11-08T16:28:59+00:00</td>\n",
       "      <td>1</td>\n",
       "      <td>23</td>\n",
       "      <td>82</td>\n",
       "      <td>397</td>\n",
       "      <td>879</td>\n",
       "      <td>206</td>\n",
       "      <td>235</td>\n",
       "      <td>NaN</td>\n",
       "    </tr>\n",
       "    <tr>\n",
       "      <th>1</th>\n",
       "      <td>2022-11-08T16:29:35+00:00</td>\n",
       "      <td>2</td>\n",
       "      <td>23</td>\n",
       "      <td>82</td>\n",
       "      <td>393</td>\n",
       "      <td>875</td>\n",
       "      <td>237</td>\n",
       "      <td>235</td>\n",
       "      <td>23.0</td>\n",
       "    </tr>\n",
       "    <tr>\n",
       "      <th>2</th>\n",
       "      <td>2022-11-08T16:30:11+00:00</td>\n",
       "      <td>3</td>\n",
       "      <td>23</td>\n",
       "      <td>82</td>\n",
       "      <td>377</td>\n",
       "      <td>874</td>\n",
       "      <td>224</td>\n",
       "      <td>235</td>\n",
       "      <td>23.0</td>\n",
       "    </tr>\n",
       "    <tr>\n",
       "      <th>3</th>\n",
       "      <td>2022-11-08T16:30:48+00:00</td>\n",
       "      <td>4</td>\n",
       "      <td>23</td>\n",
       "      <td>82</td>\n",
       "      <td>370</td>\n",
       "      <td>535</td>\n",
       "      <td>82</td>\n",
       "      <td>235</td>\n",
       "      <td>23.0</td>\n",
       "    </tr>\n",
       "    <tr>\n",
       "      <th>4</th>\n",
       "      <td>2022-11-08T16:31:24+00:00</td>\n",
       "      <td>5</td>\n",
       "      <td>23</td>\n",
       "      <td>83</td>\n",
       "      <td>358</td>\n",
       "      <td>451</td>\n",
       "      <td>215</td>\n",
       "      <td>235</td>\n",
       "      <td>23.0</td>\n",
       "    </tr>\n",
       "    <tr>\n",
       "      <th>...</th>\n",
       "      <td>...</td>\n",
       "      <td>...</td>\n",
       "      <td>...</td>\n",
       "      <td>...</td>\n",
       "      <td>...</td>\n",
       "      <td>...</td>\n",
       "      <td>...</td>\n",
       "      <td>...</td>\n",
       "      <td>...</td>\n",
       "    </tr>\n",
       "    <tr>\n",
       "      <th>448</th>\n",
       "      <td>2023-04-15T16:40:19+00:00</td>\n",
       "      <td>449</td>\n",
       "      <td>24</td>\n",
       "      <td>59</td>\n",
       "      <td>328</td>\n",
       "      <td>882</td>\n",
       "      <td>256</td>\n",
       "      <td>235</td>\n",
       "      <td>24.0</td>\n",
       "    </tr>\n",
       "    <tr>\n",
       "      <th>449</th>\n",
       "      <td>2023-04-15T16:41:36+00:00</td>\n",
       "      <td>450</td>\n",
       "      <td>24</td>\n",
       "      <td>59</td>\n",
       "      <td>318</td>\n",
       "      <td>878</td>\n",
       "      <td>320</td>\n",
       "      <td>235</td>\n",
       "      <td>24.0</td>\n",
       "    </tr>\n",
       "    <tr>\n",
       "      <th>450</th>\n",
       "      <td>2023-04-15T16:42:08+00:00</td>\n",
       "      <td>451</td>\n",
       "      <td>24</td>\n",
       "      <td>59</td>\n",
       "      <td>320</td>\n",
       "      <td>885</td>\n",
       "      <td>313</td>\n",
       "      <td>235</td>\n",
       "      <td>24.0</td>\n",
       "    </tr>\n",
       "    <tr>\n",
       "      <th>451</th>\n",
       "      <td>2023-04-15T16:42:45+00:00</td>\n",
       "      <td>452</td>\n",
       "      <td>24</td>\n",
       "      <td>59</td>\n",
       "      <td>317</td>\n",
       "      <td>881</td>\n",
       "      <td>345</td>\n",
       "      <td>235</td>\n",
       "      <td>24.0</td>\n",
       "    </tr>\n",
       "    <tr>\n",
       "      <th>452</th>\n",
       "      <td>2023-04-15T16:43:22+00:00</td>\n",
       "      <td>453</td>\n",
       "      <td>24</td>\n",
       "      <td>59</td>\n",
       "      <td>315</td>\n",
       "      <td>881</td>\n",
       "      <td>313</td>\n",
       "      <td>235</td>\n",
       "      <td>24.0</td>\n",
       "    </tr>\n",
       "  </tbody>\n",
       "</table>\n",
       "<p>453 rows × 9 columns</p>\n",
       "</div>"
      ],
      "text/plain": [
       "                    created_at  entry_id  field1  field2  field3  field4  \\\n",
       "0    2022-11-08T16:28:59+00:00         1      23      82     397     879   \n",
       "1    2022-11-08T16:29:35+00:00         2      23      82     393     875   \n",
       "2    2022-11-08T16:30:11+00:00         3      23      82     377     874   \n",
       "3    2022-11-08T16:30:48+00:00         4      23      82     370     535   \n",
       "4    2022-11-08T16:31:24+00:00         5      23      83     358     451   \n",
       "..                         ...       ...     ...     ...     ...     ...   \n",
       "448  2023-04-15T16:40:19+00:00       449      24      59     328     882   \n",
       "449  2023-04-15T16:41:36+00:00       450      24      59     318     878   \n",
       "450  2023-04-15T16:42:08+00:00       451      24      59     320     885   \n",
       "451  2023-04-15T16:42:45+00:00       452      24      59     317     881   \n",
       "452  2023-04-15T16:43:22+00:00       453      24      59     315     881   \n",
       "\n",
       "     field5  field6  Values_shifted  \n",
       "0       206     235             NaN  \n",
       "1       237     235            23.0  \n",
       "2       224     235            23.0  \n",
       "3        82     235            23.0  \n",
       "4       215     235            23.0  \n",
       "..      ...     ...             ...  \n",
       "448     256     235            24.0  \n",
       "449     320     235            24.0  \n",
       "450     313     235            24.0  \n",
       "451     345     235            24.0  \n",
       "452     313     235            24.0  \n",
       "\n",
       "[453 rows x 9 columns]"
      ]
     },
     "execution_count": 10,
     "metadata": {},
     "output_type": "execute_result"
    }
   ],
   "source": [
    "df"
   ]
  },
  {
   "cell_type": "code",
   "execution_count": 11,
   "id": "52049909",
   "metadata": {},
   "outputs": [],
   "source": [
    "df.drop('created_at', axis = 1, inplace=True)"
   ]
  },
  {
   "cell_type": "code",
   "execution_count": 12,
   "id": "1cc83e79",
   "metadata": {},
   "outputs": [],
   "source": [
    "df.dropna(inplace=True)"
   ]
  },
  {
   "cell_type": "code",
   "execution_count": 13,
   "id": "3869351d",
   "metadata": {},
   "outputs": [
    {
     "data": {
      "text/html": [
       "<div>\n",
       "<style scoped>\n",
       "    .dataframe tbody tr th:only-of-type {\n",
       "        vertical-align: middle;\n",
       "    }\n",
       "\n",
       "    .dataframe tbody tr th {\n",
       "        vertical-align: top;\n",
       "    }\n",
       "\n",
       "    .dataframe thead th {\n",
       "        text-align: right;\n",
       "    }\n",
       "</style>\n",
       "<table border=\"1\" class=\"dataframe\">\n",
       "  <thead>\n",
       "    <tr style=\"text-align: right;\">\n",
       "      <th></th>\n",
       "      <th>entry_id</th>\n",
       "      <th>field1</th>\n",
       "      <th>field2</th>\n",
       "      <th>field3</th>\n",
       "      <th>field4</th>\n",
       "      <th>field5</th>\n",
       "      <th>field6</th>\n",
       "      <th>Values_shifted</th>\n",
       "    </tr>\n",
       "  </thead>\n",
       "  <tbody>\n",
       "    <tr>\n",
       "      <th>1</th>\n",
       "      <td>2</td>\n",
       "      <td>23</td>\n",
       "      <td>82</td>\n",
       "      <td>393</td>\n",
       "      <td>875</td>\n",
       "      <td>237</td>\n",
       "      <td>235</td>\n",
       "      <td>23.0</td>\n",
       "    </tr>\n",
       "    <tr>\n",
       "      <th>2</th>\n",
       "      <td>3</td>\n",
       "      <td>23</td>\n",
       "      <td>82</td>\n",
       "      <td>377</td>\n",
       "      <td>874</td>\n",
       "      <td>224</td>\n",
       "      <td>235</td>\n",
       "      <td>23.0</td>\n",
       "    </tr>\n",
       "    <tr>\n",
       "      <th>3</th>\n",
       "      <td>4</td>\n",
       "      <td>23</td>\n",
       "      <td>82</td>\n",
       "      <td>370</td>\n",
       "      <td>535</td>\n",
       "      <td>82</td>\n",
       "      <td>235</td>\n",
       "      <td>23.0</td>\n",
       "    </tr>\n",
       "    <tr>\n",
       "      <th>4</th>\n",
       "      <td>5</td>\n",
       "      <td>23</td>\n",
       "      <td>83</td>\n",
       "      <td>358</td>\n",
       "      <td>451</td>\n",
       "      <td>215</td>\n",
       "      <td>235</td>\n",
       "      <td>23.0</td>\n",
       "    </tr>\n",
       "    <tr>\n",
       "      <th>5</th>\n",
       "      <td>6</td>\n",
       "      <td>29</td>\n",
       "      <td>95</td>\n",
       "      <td>347</td>\n",
       "      <td>591</td>\n",
       "      <td>241</td>\n",
       "      <td>235</td>\n",
       "      <td>23.0</td>\n",
       "    </tr>\n",
       "    <tr>\n",
       "      <th>...</th>\n",
       "      <td>...</td>\n",
       "      <td>...</td>\n",
       "      <td>...</td>\n",
       "      <td>...</td>\n",
       "      <td>...</td>\n",
       "      <td>...</td>\n",
       "      <td>...</td>\n",
       "      <td>...</td>\n",
       "    </tr>\n",
       "    <tr>\n",
       "      <th>448</th>\n",
       "      <td>449</td>\n",
       "      <td>24</td>\n",
       "      <td>59</td>\n",
       "      <td>328</td>\n",
       "      <td>882</td>\n",
       "      <td>256</td>\n",
       "      <td>235</td>\n",
       "      <td>24.0</td>\n",
       "    </tr>\n",
       "    <tr>\n",
       "      <th>449</th>\n",
       "      <td>450</td>\n",
       "      <td>24</td>\n",
       "      <td>59</td>\n",
       "      <td>318</td>\n",
       "      <td>878</td>\n",
       "      <td>320</td>\n",
       "      <td>235</td>\n",
       "      <td>24.0</td>\n",
       "    </tr>\n",
       "    <tr>\n",
       "      <th>450</th>\n",
       "      <td>451</td>\n",
       "      <td>24</td>\n",
       "      <td>59</td>\n",
       "      <td>320</td>\n",
       "      <td>885</td>\n",
       "      <td>313</td>\n",
       "      <td>235</td>\n",
       "      <td>24.0</td>\n",
       "    </tr>\n",
       "    <tr>\n",
       "      <th>451</th>\n",
       "      <td>452</td>\n",
       "      <td>24</td>\n",
       "      <td>59</td>\n",
       "      <td>317</td>\n",
       "      <td>881</td>\n",
       "      <td>345</td>\n",
       "      <td>235</td>\n",
       "      <td>24.0</td>\n",
       "    </tr>\n",
       "    <tr>\n",
       "      <th>452</th>\n",
       "      <td>453</td>\n",
       "      <td>24</td>\n",
       "      <td>59</td>\n",
       "      <td>315</td>\n",
       "      <td>881</td>\n",
       "      <td>313</td>\n",
       "      <td>235</td>\n",
       "      <td>24.0</td>\n",
       "    </tr>\n",
       "  </tbody>\n",
       "</table>\n",
       "<p>452 rows × 8 columns</p>\n",
       "</div>"
      ],
      "text/plain": [
       "     entry_id  field1  field2  field3  field4  field5  field6  Values_shifted\n",
       "1           2      23      82     393     875     237     235            23.0\n",
       "2           3      23      82     377     874     224     235            23.0\n",
       "3           4      23      82     370     535      82     235            23.0\n",
       "4           5      23      83     358     451     215     235            23.0\n",
       "5           6      29      95     347     591     241     235            23.0\n",
       "..        ...     ...     ...     ...     ...     ...     ...             ...\n",
       "448       449      24      59     328     882     256     235            24.0\n",
       "449       450      24      59     318     878     320     235            24.0\n",
       "450       451      24      59     320     885     313     235            24.0\n",
       "451       452      24      59     317     881     345     235            24.0\n",
       "452       453      24      59     315     881     313     235            24.0\n",
       "\n",
       "[452 rows x 8 columns]"
      ]
     },
     "execution_count": 13,
     "metadata": {},
     "output_type": "execute_result"
    }
   ],
   "source": [
    "df"
   ]
  },
  {
   "cell_type": "code",
   "execution_count": 14,
   "id": "7ef718bf",
   "metadata": {},
   "outputs": [],
   "source": [
    "y = df.field1.values\n",
    "X = df.Values_shifted.values"
   ]
  },
  {
   "cell_type": "code",
   "execution_count": 15,
   "id": "20e59197",
   "metadata": {},
   "outputs": [],
   "source": [
    "#train 80% of data\n",
    "train_size = int(len(X) * 0.80)"
   ]
  },
  {
   "cell_type": "code",
   "execution_count": 16,
   "id": "ba6ab8da",
   "metadata": {},
   "outputs": [],
   "source": [
    "X_train, X_test = X[0:train_size], X[train_size:len(X)]\n",
    "y_train, y_test = y[0:train_size], y[train_size:len(X)]"
   ]
  },
  {
   "cell_type": "code",
   "execution_count": 17,
   "id": "4d020161",
   "metadata": {},
   "outputs": [],
   "source": [
    "X_train = X_train.reshape(-1,1)\n",
    "X_test = X_test.reshape(-1,1)"
   ]
  },
  {
   "cell_type": "code",
   "execution_count": 18,
   "id": "8dacd8c8",
   "metadata": {},
   "outputs": [
    {
     "data": {
      "text/plain": [
       "LinearRegression()"
      ]
     },
     "execution_count": 18,
     "metadata": {},
     "output_type": "execute_result"
    }
   ],
   "source": [
    "lr = LinearRegression()\n",
    "lr.fit(X_train, y_train)"
   ]
  },
  {
   "cell_type": "code",
   "execution_count": 19,
   "id": "ff7d61e0",
   "metadata": {},
   "outputs": [
    {
     "data": {
      "text/plain": [
       "array([0.50925257])"
      ]
     },
     "execution_count": 19,
     "metadata": {},
     "output_type": "execute_result"
    }
   ],
   "source": [
    "lr.coef_"
   ]
  },
  {
   "cell_type": "code",
   "execution_count": 20,
   "id": "6852ef3d",
   "metadata": {},
   "outputs": [
    {
     "data": {
      "text/plain": [
       "12.35720132599368"
      ]
     },
     "execution_count": 20,
     "metadata": {},
     "output_type": "execute_result"
    }
   ],
   "source": [
    "lr.intercept_"
   ]
  },
  {
   "cell_type": "code",
   "execution_count": 21,
   "id": "cf957b6c",
   "metadata": {},
   "outputs": [
    {
     "data": {
      "text/plain": [
       "array([25.59776808, 25.59776808, 25.59776808, 25.59776808, 25.59776808,\n",
       "       25.59776808, 25.59776808, 25.59776808, 25.59776808, 25.59776808,\n",
       "       25.59776808, 25.59776808, 25.59776808, 25.59776808, 24.07001037,\n",
       "       24.07001037, 24.07001037, 24.07001037, 24.07001037, 24.07001037,\n",
       "       24.07001037, 24.57926294, 24.57926294, 24.57926294, 24.57926294,\n",
       "       25.08851551, 25.08851551, 25.08851551, 25.08851551, 25.08851551,\n",
       "       25.08851551, 25.08851551, 25.08851551, 25.08851551, 25.08851551,\n",
       "       25.08851551, 25.08851551, 25.08851551, 25.08851551, 25.08851551,\n",
       "       25.59776808, 25.59776808, 25.59776808, 25.59776808, 25.59776808,\n",
       "       25.59776808, 25.59776808, 25.59776808, 25.59776808, 25.59776808,\n",
       "       25.59776808, 25.59776808, 25.59776808, 25.59776808, 25.59776808,\n",
       "       25.59776808, 25.59776808, 24.57926294, 24.57926294, 25.08851551,\n",
       "       25.08851551, 25.08851551, 25.08851551, 25.08851551, 25.08851551,\n",
       "       25.08851551, 25.08851551, 25.08851551, 25.08851551, 25.08851551,\n",
       "       25.59776808, 25.59776808, 25.59776808, 25.59776808, 25.59776808,\n",
       "       25.59776808, 25.59776808, 25.59776808, 25.59776808, 25.59776808,\n",
       "       25.59776808, 25.59776808, 25.08851551, 25.08851551, 25.08851551,\n",
       "       24.57926294, 24.57926294, 24.57926294, 24.57926294, 24.57926294,\n",
       "       24.57926294])"
      ]
     },
     "execution_count": 21,
     "metadata": {},
     "output_type": "execute_result"
    }
   ],
   "source": [
    "y_pred = lr.predict(X_test)\n",
    "y_pred"
   ]
  },
  {
   "cell_type": "code",
   "execution_count": 22,
   "id": "d7bc5bd3",
   "metadata": {},
   "outputs": [
    {
     "data": {
      "image/png": "[encoded data removed]",
      "text/plain": [
       "<Figure size 640x480 with 1 Axes>"
      ]
     },
     "metadata": {},
     "output_type": "display_data"
    }
   ],
   "source": [
    "plt.plot(y_test[-50:], label=\"Actual Values\")\n",
    "plt.plot(y_pred[-50:], label=\"Predicted Values\")\n",
    "plt.legend()\n",
    "plt.show()"
   ]
  },
  {
   "cell_type": "code",
   "execution_count": null,
   "id": "db1150f6",
   "metadata": {},
   "outputs": [],
   "source": []
  }
 ],
 "metadata": {
  "kernelspec": {
   "display_name": "Python 3 (ipykernel)",
   "language": "python",
   "name": "python3"
  },
  "language_info": {
   "codemirror_mode": {
    "name": "ipython",
    "version": 3
   },
   "file_extension": ".py",
   "mimetype": "text/x-python",
   "name": "python",
   "nbconvert_exporter": "python",
   "pygments_lexer": "ipython3",
   "version": "3.9.13"
  }
 },
 "nbformat": 4,
 "nbformat_minor": 5
}
